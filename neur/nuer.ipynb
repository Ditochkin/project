{
 "cells": [
  {
   "cell_type": "code",
   "execution_count": 5,
   "metadata": {},
   "outputs": [],
   "source": [
    "import sqlite3\n",
    "import pandas as pd"
   ]
  },
  {
   "cell_type": "code",
   "execution_count": 6,
   "metadata": {},
   "outputs": [],
   "source": [
    "con = sqlite3.connect(\"/keylogger/project/Project3/keyboard.sqlite3\")\n",
    "cur = con.cursor()"
   ]
  },
  {
   "cell_type": "code",
   "execution_count": 7,
   "metadata": {},
   "outputs": [],
   "source": [
    "df = pd.read_sql_query(\"SELECT * from Keyboard\", con)"
   ]
  },
  {
   "cell_type": "code",
   "execution_count": 8,
   "metadata": {},
   "outputs": [
    {
     "name": "stdout",
     "output_type": "stream",
     "text": [
      "          time  key\n",
      "0            1    2\n",
      "1            1    2\n",
      "2   1681292227   72\n",
      "3   1681292227   69\n",
      "4            1    2\n",
      "5   1681292238   72\n",
      "6   1681292238   69\n",
      "7   1681292238   76\n",
      "8   1681292238   76\n",
      "9   1681292238   79\n",
      "10  1681298469   71\n",
      "11  1681298470   70\n",
      "12  1681298470   71\n",
      "13  1681298470   70\n",
      "14  1681298470   71\n",
      "15  1681298470   70\n",
      "16  1681298470   71\n",
      "17  1681298470   70\n",
      "18  1681298470   71\n",
      "19  1681298470   70\n",
      "20  1681298471   71\n",
      "21  1681298471   70\n",
      "22  1681298471   71\n",
      "23  1681298471   70\n",
      "24  1681298471   71\n",
      "25  1681298471   70\n",
      "26  1681298471   71\n",
      "27  1681298471   70\n",
      "28  1681298471   71\n",
      "29  1681298471   70\n",
      "30  1681298472   70\n",
      "31  1681298472   71\n",
      "32  1681298477   79\n"
     ]
    }
   ],
   "source": [
    "print(df)"
   ]
  },
  {
   "cell_type": "code",
   "execution_count": null,
   "metadata": {},
   "outputs": [],
   "source": [
    " "
   ]
  }
 ],
 "metadata": {
  "kernelspec": {
   "display_name": "Python 3",
   "language": "python",
   "name": "python3"
  },
  "language_info": {
   "codemirror_mode": {
    "name": "ipython",
    "version": 3
   },
   "file_extension": ".py",
   "mimetype": "text/x-python",
   "name": "python",
   "nbconvert_exporter": "python",
   "pygments_lexer": "ipython3",
   "version": "3.10.8"
  },
  "orig_nbformat": 4
 },
 "nbformat": 4,
 "nbformat_minor": 2
}
