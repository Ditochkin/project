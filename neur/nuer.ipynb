{
 "cells": [
  {
   "cell_type": "code",
   "execution_count": 2,
   "metadata": {},
   "outputs": [],
   "source": [
    "import sqlite3\n",
    "import pandas as pd\n",
    "import matplotlib.pyplot as plt\n",
    "import numpy as np\n",
    "import time\n",
    "\n",
    "from sklearn import svm"
   ]
  },
  {
   "cell_type": "code",
   "execution_count": 3,
   "metadata": {},
   "outputs": [],
   "source": [
    "keyCodes = {}\n",
    "\n",
    "file1 = open('Keyboard_key_codes.txt', 'r')\n",
    "\n",
    "for line in file1:\n",
    "    keyPair = line.strip()\n",
    "    keyPair = keyPair.split(\" - \")\n",
    "    keyCodes[keyPair[0]] = keyPair[1]\n",
    "file1.close()\n",
    "keyCodes[\"192\"] = \"Backquote\""
   ]
  },
  {
   "cell_type": "code",
   "execution_count": 4,
   "metadata": {},
   "outputs": [],
   "source": [
    "\n",
    "leftSideKeyList = [\n",
    "    \"Q\", \"W\", \"E\",  \"R\", \"T\", \"A\", \"S\", \"D\",\n",
    "    \"F\", \"G\", \"Z\", \"X\", \"C\", \"V\", \"B\", \"1\", \"2\",\n",
    "    \"3\", \"4\", \"5\", \"6\", \"Caps Lock\", \"Esc\", \"Tab\", \"Space\",\n",
    "    \"left Win\", \"left Shift\", \"left Ctrl\", \"F1\", \"F2\", \"F3\", \"F4\", \"F5\", \"Backquote\"\n",
    "    ]\n",
    "\n",
    "leftSideKeyCodeList = []\n",
    "for key in keyCodes:\n",
    "    if (keyCodes[key] in leftSideKeyList):\n",
    "        leftSideKeyCodeList.append(int(key))\n",
    "\n",
    "specialKeys = [\n",
    "    \"left Win\", \"left Shift\", \"left Ctrl\", \"F1\", \"F2\", \"F3\", \"F4\", \"F5\", \"Backquote\",\n",
    "    \"Backspace\", \"Enter\", \"Shift\", \"Ctrl\", \"Alt\", \"Pause/Break\", \"Page Up\", \"Page Up\",\n",
    "    \"Space\", \"Page Down\", \"End\", \"Home\", \"Left arrow\", \"Up arrow\", \"Right arrow\",\n",
    "    \"Down arrow\", \"Print Screen\", \"Insert\", \"Delete\", \"right Win\", \"Popup\", \"Num Lock\",\n",
    "    \"Scroll Lock\", \"right Shift\", \"right Ctrl\",\n",
    "    \"0 in the numeric keypad\", \"1 in the numeric keypad\", \"2 in the numeric keypad\",\n",
    "    \"3 in the numeric keypad\", \"4 in the numeric keypad\", \"5 in the numeric keypad\",\n",
    "    \"6 in the numeric keypad\", \"7 in the numeric keypad\", \"8 in the numeric keypad\",\n",
    "    \"9 in the numeric keypad\", \"* in the numeric keypad\", \"+ in the numeric keypad\",\n",
    "    \"- in the numeric keypad\", \". in the numeric keypad\", \"/ in the numeric keypad \"\n",
    "]\n",
    "\n",
    "specialKeyCodes = []\n",
    "for key in keyCodes:\n",
    "    if (keyCodes[key] in specialKeys):\n",
    "        specialKeyCodes.append(int(key))"
   ]
  },
  {
   "cell_type": "code",
   "execution_count": 5,
   "metadata": {},
   "outputs": [
    {
     "name": "stdout",
     "output_type": "stream",
     "text": [
      "[9, 20, 27, 32, 49, 50, 51, 52, 53, 54, 65, 66, 67, 68, 69, 70, 71, 81, 82, 83, 84, 86, 87, 88, 90, 91, 112, 113, 114, 115, 116, 160, 162, 192]\n"
     ]
    }
   ],
   "source": [
    "print(leftSideKeyCodeList)"
   ]
  },
  {
   "cell_type": "code",
   "execution_count": 18,
   "metadata": {},
   "outputs": [],
   "source": [
    "# our SVM\n",
    "classifier = svm.SVC()\n",
    "\n",
    "users = {\n",
    "    0 : \"Vita\",\n",
    "    1 : \"Lesha\",\n",
    "    2 : \"Ilya\",\n",
    "    3 : \"Tigran\"\n",
    "}\n",
    "\n",
    "def normalizeTime(dataFrame) :\n",
    "    timeData = dataFrame[\"time\"].values\n",
    "\n",
    "    start = []\n",
    "    end = []\n",
    "    timeDataShape = timeData.shape[0]\n",
    "    for i in range(0, timeDataShape - 1):\n",
    "        if (dataFrame['time'].values[i + 1] - dataFrame['time'].values[i] > 2):\n",
    "            start.append(dataFrame['time'].index[i + 1])\n",
    "            end.append(dataFrame['time'].index[i])\n",
    "\n",
    "    newTimeData = np.zeros(timeDataShape)\n",
    "\n",
    "    j = 0\n",
    "    value = 0\n",
    "    for i in range(0, timeDataShape):\n",
    "        if (j < len(start)):\n",
    "                if (dataFrame.index[i] == start[j]):\n",
    "                    value = value + dataFrame['time'][start[j]] - dataFrame['time'][end[j]] - 2\n",
    "                    j += 1\n",
    "        newTimeData[i] = timeData[i] - value\n",
    "\n",
    "    return newTimeData\n",
    "\n",
    "\n",
    "def makeTimeDataPlot(timeData):\n",
    "    plt.figure()\n",
    "    y = np.zeros(timeData.shape[0])\n",
    "    plt.scatter(timeData, y, c='red')\n",
    "    plt.show()\n",
    "\n",
    "\n",
    "def getCaseParameters(dataFrame):\n",
    "    def getPrintSpeed(timeData):\n",
    "        return (timeData[len(timeData) - 1] - timeData[0]) / timeData.shape[0]\n",
    "    \n",
    "    params = []\n",
    "\n",
    "    leftSideDf = dataFrame.loc[(dataFrame[\"key\"].isin(leftSideKeyCodeList))]\n",
    "    timeData = normalizeTime(leftSideDf)\n",
    "    params += [getPrintSpeed(timeData)]\n",
    "\n",
    "    rigthSideDf = dataFrame.loc[(~dataFrame[\"key\"].isin(leftSideKeyCodeList))]\n",
    "    timeData = normalizeTime(rigthSideDf)\n",
    "    params += [getPrintSpeed(timeData)]\n",
    "\n",
    "    specialKeysDf = dataFrame.loc[(dataFrame[\"key\"].isin(specialKeyCodes))]\n",
    "    mostUsedSpecKeys = specialKeysDf[\"key\"].value_counts()[:1]\n",
    "    mostUsedSpecKeys = [float(x) for x in mostUsedSpecKeys.index.values]\n",
    "    params += mostUsedSpecKeys\n",
    "\n",
    "    timeData = normalizeTime(dataFrame)\n",
    "    params += [getPrintSpeed(timeData)]\n",
    "\n",
    "    return params\n",
    "\n",
    "\n",
    "def processDB(dataFrame, n, yValue):\n",
    "    dataFrame = dataFrame.loc[(dataFrame.time != 1)]\n",
    "\n",
    "    dfsize = dataFrame.shape[0]\n",
    "    dfs = []\n",
    "\n",
    "    for i in range(n):\n",
    "        dfs.append(dataFrame.iloc[int(dfsize/n * i): int(dfsize/n * (i + 1))])\n",
    "\n",
    "    xFeatures = []\n",
    "    yFeatures = []\n",
    "    for i in range(len(dfs)):\n",
    "        params = getCaseParameters(dfs[i])\n",
    "        xFeatures.append(params)\n",
    "        yFeatures.append(yValue)\n",
    "\n",
    "    return xFeatures, yFeatures\n",
    "\n",
    "\n",
    "def trainSVM(xTrain, yTrain):\n",
    "    classifier.fit(xTrain, yTrain)\n",
    "\n",
    "\n",
    "def getDataFrameFromDataBase(dbFileName):\n",
    "    con = sqlite3.connect(dbFileName)\n",
    "    dataFrame = pd.read_sql_query(\"SELECT * from Keyboard\", con)\n",
    "    return dataFrame\n",
    "\n",
    "def mainFunc() :\n",
    "\n",
    "    xFeatures = []\n",
    "    yFeatures = []\n",
    "\n",
    "    VitaDataFrame = getDataFrameFromDataBase(\"/keylogger/project/Project3/keyboardVita.sqlite3\")\n",
    "    x, y = processDB(VitaDataFrame, 2, 0)\n",
    "    xFeatures = xFeatures + x\n",
    "    yFeatures = yFeatures + y\n",
    "\n",
    "    LeshaDataFrame = getDataFrameFromDataBase(\"/keylogger/project/Project3/keyboardLesha.sqlite3\")\n",
    "    x, y = processDB(LeshaDataFrame, 2, 1)\n",
    "    xFeatures = xFeatures + x\n",
    "    yFeatures = yFeatures + y\n",
    "\n",
    "    IlyaDataFrame = getDataFrameFromDataBase(\"/keylogger/project/Project3/keyboardIlya.sqlite3\")\n",
    "    x, y = processDB(IlyaDataFrame, 2, 2)\n",
    "    xFeatures = xFeatures + x\n",
    "    yFeatures = yFeatures + y\n",
    "\n",
    "    TigranDataFrame = getDataFrameFromDataBase(\"/keylogger/project/Project3/keyboardTigran.sqlite3\")\n",
    "    x, y = processDB(TigranDataFrame, 2, 3)\n",
    "    xFeatures = xFeatures + x\n",
    "    yFeatures = yFeatures + y\n",
    "\n",
    "    trainSVM(xFeatures, yFeatures)\n",
    "\n",
    "    LeshaDataFrameTest = getDataFrameFromDataBase(\"/keylogger/project/Project3/keyboardLeshaTest.sqlite3\")\n",
    "    xTest, y = processDB(LeshaDataFrameTest, 1, 1)\n",
    "\n",
    "    print(users[classifier.predict(xTest)[0]])\n",
    "        \n",
    "          "
   ]
  },
  {
   "cell_type": "code",
   "execution_count": 19,
   "metadata": {},
   "outputs": [],
   "source": [
    "# самые часто нажимаемые клавиши\n",
    "\n",
    "# скорость печати\n",
    "\n",
    "# разделелние клавиатуры на левую и правую части"
   ]
  },
  {
   "cell_type": "code",
   "execution_count": 20,
   "metadata": {},
   "outputs": [
    {
     "name": "stdout",
     "output_type": "stream",
     "text": [
      "Ilya\n"
     ]
    },
    {
     "name": "stderr",
     "output_type": "stream",
     "text": [
      "C:\\Users\\kek\\AppData\\Local\\Temp\\ipykernel_13044\\3421148061.py:58: FutureWarning: The behavior of `series[i:j]` with an integer-dtype index is deprecated. In a future version, this will be treated as *label-based* indexing, consistent with e.g. `series[i]` lookups. To retain the old behavior, use `series.iloc[i:j]`. To get the future behavior, use `series.loc[i:j]`.\n",
      "  mostUsedSpecKeys = specialKeysDf[\"key\"].value_counts()[:1]\n",
      "C:\\Users\\kek\\AppData\\Local\\Temp\\ipykernel_13044\\3421148061.py:58: FutureWarning: The behavior of `series[i:j]` with an integer-dtype index is deprecated. In a future version, this will be treated as *label-based* indexing, consistent with e.g. `series[i]` lookups. To retain the old behavior, use `series.iloc[i:j]`. To get the future behavior, use `series.loc[i:j]`.\n",
      "  mostUsedSpecKeys = specialKeysDf[\"key\"].value_counts()[:1]\n",
      "C:\\Users\\kek\\AppData\\Local\\Temp\\ipykernel_13044\\3421148061.py:58: FutureWarning: The behavior of `series[i:j]` with an integer-dtype index is deprecated. In a future version, this will be treated as *label-based* indexing, consistent with e.g. `series[i]` lookups. To retain the old behavior, use `series.iloc[i:j]`. To get the future behavior, use `series.loc[i:j]`.\n",
      "  mostUsedSpecKeys = specialKeysDf[\"key\"].value_counts()[:1]\n",
      "C:\\Users\\kek\\AppData\\Local\\Temp\\ipykernel_13044\\3421148061.py:58: FutureWarning: The behavior of `series[i:j]` with an integer-dtype index is deprecated. In a future version, this will be treated as *label-based* indexing, consistent with e.g. `series[i]` lookups. To retain the old behavior, use `series.iloc[i:j]`. To get the future behavior, use `series.loc[i:j]`.\n",
      "  mostUsedSpecKeys = specialKeysDf[\"key\"].value_counts()[:1]\n",
      "C:\\Users\\kek\\AppData\\Local\\Temp\\ipykernel_13044\\3421148061.py:58: FutureWarning: The behavior of `series[i:j]` with an integer-dtype index is deprecated. In a future version, this will be treated as *label-based* indexing, consistent with e.g. `series[i]` lookups. To retain the old behavior, use `series.iloc[i:j]`. To get the future behavior, use `series.loc[i:j]`.\n",
      "  mostUsedSpecKeys = specialKeysDf[\"key\"].value_counts()[:1]\n",
      "C:\\Users\\kek\\AppData\\Local\\Temp\\ipykernel_13044\\3421148061.py:58: FutureWarning: The behavior of `series[i:j]` with an integer-dtype index is deprecated. In a future version, this will be treated as *label-based* indexing, consistent with e.g. `series[i]` lookups. To retain the old behavior, use `series.iloc[i:j]`. To get the future behavior, use `series.loc[i:j]`.\n",
      "  mostUsedSpecKeys = specialKeysDf[\"key\"].value_counts()[:1]\n",
      "C:\\Users\\kek\\AppData\\Local\\Temp\\ipykernel_13044\\3421148061.py:58: FutureWarning: The behavior of `series[i:j]` with an integer-dtype index is deprecated. In a future version, this will be treated as *label-based* indexing, consistent with e.g. `series[i]` lookups. To retain the old behavior, use `series.iloc[i:j]`. To get the future behavior, use `series.loc[i:j]`.\n",
      "  mostUsedSpecKeys = specialKeysDf[\"key\"].value_counts()[:1]\n",
      "C:\\Users\\kek\\AppData\\Local\\Temp\\ipykernel_13044\\3421148061.py:58: FutureWarning: The behavior of `series[i:j]` with an integer-dtype index is deprecated. In a future version, this will be treated as *label-based* indexing, consistent with e.g. `series[i]` lookups. To retain the old behavior, use `series.iloc[i:j]`. To get the future behavior, use `series.loc[i:j]`.\n",
      "  mostUsedSpecKeys = specialKeysDf[\"key\"].value_counts()[:1]\n",
      "C:\\Users\\kek\\AppData\\Local\\Temp\\ipykernel_13044\\3421148061.py:58: FutureWarning: The behavior of `series[i:j]` with an integer-dtype index is deprecated. In a future version, this will be treated as *label-based* indexing, consistent with e.g. `series[i]` lookups. To retain the old behavior, use `series.iloc[i:j]`. To get the future behavior, use `series.loc[i:j]`.\n",
      "  mostUsedSpecKeys = specialKeysDf[\"key\"].value_counts()[:1]\n"
     ]
    }
   ],
   "source": [
    "mainFunc()"
   ]
  },
  {
   "cell_type": "code",
   "execution_count": null,
   "metadata": {},
   "outputs": [],
   "source": []
  }
 ],
 "metadata": {
  "kernelspec": {
   "display_name": "Python 3",
   "language": "python",
   "name": "python3"
  },
  "language_info": {
   "codemirror_mode": {
    "name": "ipython",
    "version": 3
   },
   "file_extension": ".py",
   "mimetype": "text/x-python",
   "name": "python",
   "nbconvert_exporter": "python",
   "pygments_lexer": "ipython3",
   "version": "3.10.8"
  },
  "orig_nbformat": 4,
  "vscode": {
   "interpreter": {
    "hash": "e125eb9b825772deffb9d146a40bacec03374c0c8641ece9c180c10e6d33582c"
   }
  }
 },
 "nbformat": 4,
 "nbformat_minor": 2
}
